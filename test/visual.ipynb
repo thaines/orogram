{
 "cells": [
  {
   "cell_type": "markdown",
   "metadata": {},
   "source": [
    "# Visual tests\n",
    "\n",
    "Generating some graphs for visually checking behaviour.\n",
    "\n",
    "Copyright 2022 Tom SF Haines"
   ]
  },
  {
   "cell_type": "code",
   "execution_count": null,
   "metadata": {},
   "outputs": [],
   "source": [
    "import sys, os\n",
    "\n",
    "import numpy\n",
    "from scipy.stats import norm, uniform, bradford\n",
    "import matplotlib.pyplot as plt\n",
    "\n",
    "sys.path.insert(0, '..')\n",
    "import orogram\n",
    "\n",
    "rng = numpy.random.default_rng(0)"
   ]
  },
  {
   "cell_type": "markdown",
   "metadata": {},
   "source": [
    "## RegOrogram"
   ]
  },
  {
   "cell_type": "code",
   "execution_count": null,
   "metadata": {},
   "outputs": [],
   "source": [
    "model1 = orogram.RegOrogram(0.5)\n",
    "data1 = rng.standard_normal(1024*16)*3\n",
    "model1.add(data1)\n",
    "\n",
    "rv = norm(scale=3)\n",
    "model2 = orogram.RegOrogram(0.2)\n",
    "model2.bake(rv.cdf, -12, 12)\n",
    "\n",
    "\n",
    "plt.figure(figsize=(12,6))\n",
    "\n",
    "x1, y1 = model1.graph()\n",
    "plt.plot(x1, y1)\n",
    "\n",
    "x2, y2 = model2.graph()\n",
    "plt.plot(x2, y2)\n",
    "\n",
    "#y2pdf = rv.pdf(x2)\n",
    "#plt.plot(x2, y2pdf)\n",
    "\n",
    "plt.plot([0, 0], [0,0.14])\n",
    "\n",
    "plt.show()"
   ]
  },
  {
   "cell_type": "markdown",
   "metadata": {},
   "source": [
    "## Orogram"
   ]
  },
  {
   "cell_type": "code",
   "execution_count": null,
   "metadata": {},
   "outputs": [],
   "source": [
    "m1 = orogram.RegOrogram(0.11)\n",
    "m1.bake(norm(scale = 2.0).cdf, -6, 6)\n",
    "m1 = orogram.Orogram(m1)\n",
    "\n",
    "m2 = orogram.RegOrogram(0.13)\n",
    "m2.bake(uniform(loc = -1.75, scale = 2.0).cdf, -2.25, 0.75)\n",
    "m2 = orogram.Orogram(m2)\n",
    "\n",
    "m3 = orogram.RegOrogram(0.03)\n",
    "m3.bake(bradford(loc = -0.25, scale = 2.0, c=4.0).cdf, -0.5, 2.5)\n",
    "m3 = orogram.Orogram(m3)\n",
    "\n",
    "\n",
    "plt.figure(figsize=(12,6))\n",
    "plt.plot(*m1.graph())\n",
    "plt.plot(*m2.graph())\n",
    "plt.plot(*m3.graph())\n",
    "plt.show()"
   ]
  },
  {
   "cell_type": "code",
   "execution_count": null,
   "metadata": {},
   "outputs": [],
   "source": [
    "mix = orogram.Orogram.mixture([m1,m2,m3], [2.0, 1.0, 0.5])\n",
    "prod = orogram.Orogram.product([m1,m2,m3])\n",
    "\n",
    "plt.figure(figsize=(12,6))\n",
    "plt.plot(*mix.graph())\n",
    "plt.show()\n",
    "\n",
    "plt.figure(figsize=(12,6))\n",
    "plt.plot(*prod.graph())\n",
    "plt.show()"
   ]
  }
 ],
 "metadata": {
  "kernelspec": {
   "display_name": "Python 3",
   "language": "python",
   "name": "python3"
  },
  "language_info": {
   "codemirror_mode": {
    "name": "ipython",
    "version": 3
   },
   "file_extension": ".py",
   "mimetype": "text/x-python",
   "name": "python",
   "nbconvert_exporter": "python",
   "pygments_lexer": "ipython3",
   "version": "3.6.9"
  }
 },
 "nbformat": 4,
 "nbformat_minor": 2
}
