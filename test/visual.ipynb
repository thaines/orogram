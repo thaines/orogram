{
 "cells": [
  {
   "cell_type": "markdown",
   "metadata": {},
   "source": [
    "Copyright 2022 Tom SF Haines"
   ]
  },
  {
   "cell_type": "code",
   "execution_count": null,
   "metadata": {},
   "outputs": [],
   "source": [
    "import sys, os\n",
    "\n",
    "import numpy\n",
    "from scipy.stats import norm\n",
    "import matplotlib.pyplot as plt\n",
    "\n",
    "sys.path.insert(0, '..')\n",
    "import orogram\n",
    "\n",
    "rng = numpy.random.default_rng(0)"
   ]
  },
  {
   "cell_type": "code",
   "execution_count": null,
   "metadata": {},
   "outputs": [],
   "source": [
    "model1 = orogram.RegOrogram(0.5)\n",
    "data1 = rng.standard_normal(1024*16)*3\n",
    "model1.add(data1)\n",
    "\n",
    "rv = norm(scale=3)\n",
    "model2 = orogram.RegOrogram(0.3)\n",
    "model2.bake(rv.cdf, -12, 12)\n",
    "\n",
    "\n",
    "plt.figure(figsize=(12,6))\n",
    "\n",
    "x1, y1 = model1.graph()\n",
    "plt.plot(x1, y1)\n",
    "\n",
    "x2, y2 = model2.graph()\n",
    "plt.plot(x2, y2)\n",
    "\n",
    "#y2pdf = rv.pdf(x2)\n",
    "#plt.plot(x2, y2pdf)\n",
    "\n",
    "plt.show()"
   ]
  }
 ],
 "metadata": {
  "kernelspec": {
   "display_name": "Python 3",
   "language": "python",
   "name": "python3"
  },
  "language_info": {
   "codemirror_mode": {
    "name": "ipython",
    "version": 3
   },
   "file_extension": ".py",
   "mimetype": "text/x-python",
   "name": "python",
   "nbconvert_exporter": "python",
   "pygments_lexer": "ipython3",
   "version": "3.6.9"
  }
 },
 "nbformat": 4,
 "nbformat_minor": 2
}
